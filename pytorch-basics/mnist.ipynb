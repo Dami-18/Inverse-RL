{
 "cells": [
  {
   "cell_type": "code",
   "execution_count": 6,
   "id": "05fd213d-ff3d-4942-9a2b-187c67d337ed",
   "metadata": {},
   "outputs": [],
   "source": [
    "import torch\n",
    "import torchvision\n",
    "from torchvision.datasets import MNIST"
   ]
  },
  {
   "cell_type": "code",
   "execution_count": 7,
   "id": "76dc663a-92c2-477f-a73a-ab131af7eb79",
   "metadata": {},
   "outputs": [],
   "source": [
    "dataset = MNIST(root='data/', download=True)"
   ]
  },
  {
   "cell_type": "code",
   "execution_count": 8,
   "id": "5bc2bdfa-67a2-423c-8ca9-395b94d308b6",
   "metadata": {},
   "outputs": [],
   "source": [
    "len(dataset)\n",
    "test_dataset = MNIST(root='data/', train=False)"
   ]
  },
  {
   "cell_type": "code",
   "execution_count": 9,
   "id": "34dd1606-e8e1-4b8e-9c7c-193b863a34d6",
   "metadata": {},
   "outputs": [],
   "source": [
    "import matplotlib.pyplot as plt\n",
    "%matplotlib inline\n",
    "# The statement %matplotlib inline indicates to Jupyter that we want to plot the graphs within the notebook \n",
    "# Without this line, Jupyter will show the image in a popup\n",
    "# Statements starting with % are called magic commands and are used to configure the behavior of Jupyter"
   ]
  },
  {
   "cell_type": "code",
   "execution_count": 10,
   "id": "7489688d-7193-483f-9622-5d74cbdc6346",
   "metadata": {},
   "outputs": [
    {
     "data": {
      "image/png": "[encoded data removed]",
      "text/plain": [
       "<Figure size 640x480 with 1 Axes>"
      ]
     },
     "metadata": {},
     "output_type": "display_data"
    }
   ],
   "source": [
    "image, label = dataset[1]\n",
    "plt.imshow(image,cmap='gray')\n",
    "plt.title(f'Label: {label}')\n",
    "plt.show() # add this explicitly as in some cases images are not rendered properly"
   ]
  },
  {
   "cell_type": "code",
   "execution_count": 11,
   "id": "4314e949-285b-4ea9-a5a2-0057f897a522",
   "metadata": {},
   "outputs": [
    {
     "name": "stdout",
     "output_type": "stream",
     "text": [
      "torch.Size([1, 28, 28]) 5\n"
     ]
    }
   ],
   "source": [
    "import torchvision.transforms as tf\n",
    "\n",
    "dataset = MNIST(root='data/', train=True, transform=tf.ToTensor())\n",
    "img_tensor, label = dataset[0]\n",
    "print(img_tensor.shape, label)"
   ]
  },
  {
   "cell_type": "code",
   "execution_count": 12,
   "id": "0e63bcf5-e382-464f-9236-413d07c532fb",
   "metadata": {},
   "outputs": [],
   "source": [
    "from torch.utils.data import random_split, DataLoader\n",
    "\n",
    "train_ds, val_ds = random_split(dataset, [50000, 10000])\n",
    "batch_size = 128\n",
    "train_dl = DataLoader(train_ds, batch_size, shuffle=True)\n",
    "val_dl = DataLoader(val_ds,batch_size)"
   ]
  },
  {
   "cell_type": "code",
   "execution_count": 13,
   "id": "74516180-aece-474d-81f8-caddb24bf7ca",
   "metadata": {},
   "outputs": [],
   "source": [
    "import torch.nn as nn\n",
    "\n",
    "input_size = 28*28 # flattened into a single vector of size 1*28*28\n",
    "num_classes = 10 # 0 to 9\n",
    "\n",
    "class MnistModel(nn.Module):\n",
    "    def __init__(self):\n",
    "        super().__init__()\n",
    "        self.linear = nn.Linear(input_size,num_classes)\n",
    "\n",
    "    def forward(self,xb):\n",
    "        xb = xb.reshape(-1,784) #xb.reshape(-1, 28*28) indicates to PyTorch that we want a view of the xb tensor with two dimensions. \n",
    "                                #The length along the 2nd dimension is 28*28 (i.e., 784). One argument to .reshape can be set to -1 (in this case, the first dimension) to let PyTorch figure it out automatically based on the shape of the original tensor\n",
    "                                #So, shape will be set according to batch_size\n",
    "        out = self.linear(xb) # inside the forward method, which is invoked when we pass a batch of inputs to the model, we flatten the input tensor and pass it into self.linear\n",
    "        return out\n",
    "\n",
    "model = MnistModel()"
   ]
  },
  {
   "cell_type": "code",
   "execution_count": 14,
   "id": "4c9cce03-a77c-4fec-ad8d-7c9ea3c4fe92",
   "metadata": {},
   "outputs": [],
   "source": [
    "import torch.nn.functional as f    "
   ]
  },
  {
   "cell_type": "code",
   "execution_count": 16,
   "id": "b2fb1cc7-e7c2-4ce9-b7dd-dc2b8b2bcb23",
   "metadata": {},
   "outputs": [
    {
     "name": "stdout",
     "output_type": "stream",
     "text": [
      "torch.Size([128, 1, 28, 28])\n",
      "outputs.shape :  torch.Size([128, 10])\n",
      "Sample outputs :\n",
      " tensor([[ 0.1459,  0.0217,  0.1107,  0.0104,  0.3223, -0.0826, -0.1476, -0.0193,\n",
      "         -0.1949, -0.0720],\n",
      "        [ 0.0763,  0.1721, -0.3078, -0.2575,  0.1289,  0.1627, -0.1528, -0.1002,\n",
      "         -0.3358,  0.2394],\n",
      "        [ 0.2473,  0.0181, -0.3621, -0.3191,  0.1429,  0.2731,  0.0815, -0.0797,\n",
      "         -0.1471,  0.1295]])\n"
     ]
    }
   ],
   "source": [
    "for images, labels in train_dl:\n",
    "    print(images.shape)\n",
    "    outputs = model(images)\n",
    "    break\n",
    "\n",
    "print('outputs.shape : ', outputs.shape)\n",
    "print('Sample outputs :\\n', outputs[:3].data)"
   ]
  },
  {
   "cell_type": "code",
   "execution_count": 17,
   "id": "2045831f-d569-4ddb-9068-9d044935e25a",
   "metadata": {},
   "outputs": [
    {
     "name": "stdout",
     "output_type": "stream",
     "text": [
      "Sum:  1.0000001192092896\n"
     ]
    }
   ],
   "source": [
    "probs = f.softmax(outputs,dim=1)\n",
    "# Add up the probabilities of an output row\n",
    "print(\"Sum: \", torch.sum(probs[0]).item())"
   ]
  },
  {
   "cell_type": "code",
   "execution_count": 19,
   "id": "ef9fe492-1939-4986-a05f-b7e31e599ce5",
   "metadata": {},
   "outputs": [],
   "source": [
    "# probs.shape\n",
    "max_probs, preds = torch.max(probs,dim=1) # This is calculated for first batch only"
   ]
  },
  {
   "cell_type": "code",
   "execution_count": 20,
   "id": "68996dda-d3f1-405a-b49a-443c9669db2b",
   "metadata": {},
   "outputs": [],
   "source": [
    "def fit(epochs, lr, model, train_dl, val_dl, opt_fun=torch.optim.SGD):\n",
    "    optimizer = opt_fun(model.parameters(), lr)\n",
    "    history = [] # list which stores epoch-wise results\n",
    "\n",
    "    for epoch in range(epochs):\n",
    "        # Training\n",
    "        for batch in train_dl:\n",
    "            loss = model.training_step(batch)\n",
    "            loss.backward()\n",
    "            optimizer.step()\n",
    "            optimizer.zero_grad()\n",
    "\n",
    "        # Validation\n",
    "        result = evaluate(model,val_dl)\n",
    "        model.epoch_end(epoch,result)\n",
    "        history.append(result)\n",
    "\n",
    "    return history"
   ]
  },
  {
   "cell_type": "code",
   "execution_count": 22,
   "id": "d95f37eb-2f1e-4dd4-b358-90892cce8f02",
   "metadata": {},
   "outputs": [],
   "source": [
    "def evaluate(model,val_dl):\n",
    "    outputs = [model.validation_step(batch) for batch in val_dl]\n",
    "    return model.validation_epoch_end(outputs)\n",
    "\n",
    "def accuracy(outputs, labels):\n",
    "    _, preds = torch.max(outputs, dim=1) # dim=1 means do this operation along specified dimension\n",
    "    return torch.tensor(torch.sum(preds == labels).item() / len(preds))"
   ]
  },
  {
   "cell_type": "code",
   "execution_count": 23,
   "id": "bae72eb3-2f05-4942-8d99-7abd59fcd77d",
   "metadata": {},
   "outputs": [],
   "source": [
    "class MnistModel(nn.Module):\n",
    "    def __init__(self):\n",
    "        super().__init__()\n",
    "        self.linear = nn.Linear(input_size,num_classes)\n",
    "\n",
    "    def forward(self,xb):\n",
    "        xb = xb.reshape(-1,784)\n",
    "        out = self.linear(xb)\n",
    "        return out\n",
    "\n",
    "    def training_step(self,batch):\n",
    "        images, labels = batch\n",
    "        # When you call the model instance (self(images)), it internally invokes the forward method\n",
    "        # If you directly call self.linear(images), you bypass any preprocessing (like reshaping) or additional layers/operations defined in the forward method\n",
    "        out = self(images) \n",
    "        # softmax is not applied here because PyTorch's f.cross_entropy loss function already includes softmax internally\n",
    "        loss = f.cross_entropy(out, labels)\n",
    "        return loss\n",
    "\n",
    "    def validation_step(self,batch):\n",
    "        images, labels = batch\n",
    "        out = self(images) # This basically holds the first return value among all methods defined in class\n",
    "        loss = f.cross_entropy(out,labels)\n",
    "        acc = accuracy(out, labels)\n",
    "        return {'val_loss': loss, 'val_acc':acc}\n",
    "\n",
    "    def validation_epoch_end(self,outputs):\n",
    "        batch_losses = [x['val_loss'] for x in outputs]\n",
    "        epoch_loss = torch.stack(batch_losses).mean() # combine at the end of one epoch\n",
    "        batch_accs = [y['val_acc'] for y in outputs]\n",
    "        epoch_acc = torch.stack(batch_accs).mean()\n",
    "        return {'val_loss': epoch_loss.item(), 'val_acc': epoch_acc.item()}\n",
    "\n",
    "    def epoch_end(self,epoch,result):\n",
    "        print(\"Epoch [{}], val_loss: {:.4f}, val_acc: {:.4f}\".format(epoch, result['val_loss'], result['val_acc']))\n",
    "\n",
    "model = MnistModel()"
   ]
  },
  {
   "cell_type": "code",
   "execution_count": 25,
   "id": "e97894f6-55ad-4514-aa68-38c516b3b094",
   "metadata": {},
   "outputs": [
    {
     "name": "stdout",
     "output_type": "stream",
     "text": [
      "Epoch [0], val_loss: 1.2171, val_acc: 0.7913\n",
      "Epoch [1], val_loss: 1.1247, val_acc: 0.8025\n",
      "Epoch [2], val_loss: 1.0505, val_acc: 0.8115\n",
      "Epoch [3], val_loss: 0.9898, val_acc: 0.8175\n",
      "Epoch [4], val_loss: 0.9392, val_acc: 0.8230\n",
      "Epoch [5], val_loss: 0.8964, val_acc: 0.8270\n",
      "Epoch [6], val_loss: 0.8597, val_acc: 0.8319\n",
      "Epoch [7], val_loss: 0.8279, val_acc: 0.8366\n"
     ]
    }
   ],
   "source": [
    "history1 = fit(8,0.001,model,train_dl,val_dl)"
   ]
  },
  {
   "cell_type": "code",
   "execution_count": 26,
   "id": "9770944e-bb29-43ac-90ab-c21d3863be78",
   "metadata": {},
   "outputs": [],
   "source": [
    "torch.save(model.state_dict(), 'mnist-logistic.pth')"
   ]
  }
 ],
 "metadata": {
  "kernelspec": {
   "display_name": "Python 3 (ipykernel)",
   "language": "python",
   "name": "python3"
  },
  "language_info": {
   "codemirror_mode": {
    "name": "ipython",
    "version": 3
   },
   "file_extension": ".py",
   "mimetype": "text/x-python",
   "name": "python",
   "nbconvert_exporter": "python",
   "pygments_lexer": "ipython3",
   "version": "3.12.7"
  }
 },
 "nbformat": 4,
 "nbformat_minor": 5
}
