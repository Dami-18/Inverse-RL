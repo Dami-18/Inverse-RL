{
 "cells": [
  {
   "cell_type": "code",
   "execution_count": 1,
   "id": "dfe87a61-e9d6-453e-9a47-b8f33e391c1d",
   "metadata": {},
   "outputs": [],
   "source": [
    "import torch"
   ]
  },
  {
   "cell_type": "code",
   "execution_count": 4,
   "id": "aec556a1-2066-4e24-97fe-4974f751c1b0",
   "metadata": {},
   "outputs": [
    {
     "data": {
      "text/plain": [
       "tensor([[[26, 26, 26],\n",
       "         [26, 26, 26]],\n",
       "\n",
       "        [[26, 26, 26],\n",
       "         [26, 26, 26]]])"
      ]
     },
     "execution_count": 4,
     "metadata": {},
     "output_type": "execute_result"
    }
   ],
   "source": [
    "t1 = torch.full((2,2,3),26)\n",
    "t1"
   ]
  },
  {
   "cell_type": "code",
   "execution_count": 5,
   "id": "8b718bff-36f6-4aab-9e24-c4358021bcc3",
   "metadata": {},
   "outputs": [
    {
     "data": {
      "text/plain": [
       "tensor([[[26., 26., 26.],\n",
       "         [26., 26., 26.]],\n",
       "\n",
       "        [[26., 26., 26.],\n",
       "         [26., 26., 26.]],\n",
       "\n",
       "        [[11., 12., 13.],\n",
       "         [13., 14., 15.]],\n",
       "\n",
       "        [[15., 16., 17.],\n",
       "         [17., 18., 19.]]])"
      ]
     },
     "execution_count": 5,
     "metadata": {},
     "output_type": "execute_result"
    }
   ],
   "source": [
    "t2 = torch.tensor([\n",
    "    [[11, 12, 13], \n",
    "     [13, 14, 15]], \n",
    "    [[15, 16, 17], \n",
    "     [17, 18, 19.]]])\n",
    "\n",
    "# concat when shapes are compatible\n",
    "t3 = torch.cat((t1,t2))\n",
    "t3"
   ]
  },
  {
   "cell_type": "code",
   "execution_count": 10,
   "id": "0fd1fa4f-cbde-4478-aeb4-dc255110c523",
   "metadata": {},
   "outputs": [
    {
     "data": {
      "text/plain": [
       "torch.Size([2, 3])"
      ]
     },
     "execution_count": 10,
     "metadata": {},
     "output_type": "execute_result"
    }
   ],
   "source": [
    "t4 = torch.tensor([[1,1,2],[21,0,9]])\n",
    "t4.shape"
   ]
  },
  {
   "cell_type": "code",
   "execution_count": 14,
   "id": "6293b790-69ff-42a2-9d24-7bad3dfe823c",
   "metadata": {},
   "outputs": [
    {
     "data": {
      "text/plain": [
       "tensor([[ 1, 21],\n",
       "        [ 1,  0],\n",
       "        [ 2,  9]])"
      ]
     },
     "execution_count": 14,
     "metadata": {},
     "output_type": "execute_result"
    }
   ],
   "source": [
    "t5 = torch.transpose(t4,0,1)\n",
    "t5"
   ]
  },
  {
   "cell_type": "code",
   "execution_count": null,
   "id": "a6759293-2182-4fa4-8e0c-a0396d360b21",
   "metadata": {},
   "outputs": [],
   "source": []
  }
 ],
 "metadata": {
  "kernelspec": {
   "display_name": "Python 3 (ipykernel)",
   "language": "python",
   "name": "python3"
  },
  "language_info": {
   "codemirror_mode": {
    "name": "ipython",
    "version": 3
   },
   "file_extension": ".py",
   "mimetype": "text/x-python",
   "name": "python",
   "nbconvert_exporter": "python",
   "pygments_lexer": "ipython3",
   "version": "3.12.7"
  }
 },
 "nbformat": 4,
 "nbformat_minor": 5
}
