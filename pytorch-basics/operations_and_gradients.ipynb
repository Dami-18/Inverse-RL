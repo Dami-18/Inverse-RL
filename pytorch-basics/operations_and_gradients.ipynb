{
 "cells": [
  {
   "cell_type": "code",
   "execution_count": 1,
   "id": "be4829fc-143d-4429-93bb-69a29f7f15d2",
   "metadata": {},
   "outputs": [],
   "source": [
    "import torch"
   ]
  },
  {
   "cell_type": "code",
   "execution_count": 2,
   "id": "b4a5e5c2-5c00-436d-97dc-219b752c762b",
   "metadata": {},
   "outputs": [
    {
     "data": {
      "text/plain": [
       "(tensor(4.), tensor(3., requires_grad=True), tensor(5., requires_grad=True))"
      ]
     },
     "execution_count": 2,
     "metadata": {},
     "output_type": "execute_result"
    }
   ],
   "source": [
    "x = torch.tensor(4.)\n",
    "w = torch.tensor(3.,requires_grad=True) # requires_grad true basically means the derivative of y will be calculated wrt these\n",
    "b = torch.tensor(5.,requires_grad=True)\n",
    "x,w,b"
   ]
  },
  {
   "cell_type": "code",
   "execution_count": 3,
   "id": "1d4e6de8-f360-4da2-9223-6d13f75dd59b",
   "metadata": {},
   "outputs": [],
   "source": [
    "y = w*x + b"
   ]
  },
  {
   "cell_type": "code",
   "execution_count": 4,
   "id": "f7f1b75d-5a19-4ab2-af1c-934415245009",
   "metadata": {},
   "outputs": [],
   "source": [
    "#Compute derivatives\n",
    "# What makes PyTorch unique is that we can automatically compute the derivative of y w.r.t. the tensors that have requires_grad set to True i.e. w and b. This feature of PyTorch is called autograd (automatic gradients)\n",
    "# To compute the derivatives, we can invoke the .backward method on our result y\n",
    "y.backward()"
   ]
  },
  {
   "cell_type": "code",
   "execution_count": 5,
   "id": "2f55b51d-9b01-4267-b8ff-edfacee8d491",
   "metadata": {},
   "outputs": [
    {
     "name": "stdout",
     "output_type": "stream",
     "text": [
      "dy/dx: None\n",
      "dy/dw: tensor(4.)\n",
      "dy/db: tensor(1.)\n"
     ]
    }
   ],
   "source": [
    "# The derivatives of y with respect to the input tensors are stored in the .grad property of the respective tensors\n",
    "\n",
    "# Display gradients\n",
    "print('dy/dx:', x.grad)\n",
    "print('dy/dw:', w.grad)\n",
    "print('dy/db:', b.grad)\n",
    "#requires_grad = true gives derivative value. if used"
   ]
  },
  {
   "cell_type": "code",
   "execution_count": null,
   "id": "745757e3-514d-4bd3-a4f4-99ca922e0a80",
   "metadata": {},
   "outputs": [],
   "source": []
  }
 ],
 "metadata": {
  "kernelspec": {
   "display_name": "Python 3 (ipykernel)",
   "language": "python",
   "name": "python3"
  },
  "language_info": {
   "codemirror_mode": {
    "name": "ipython",
    "version": 3
   },
   "file_extension": ".py",
   "mimetype": "text/x-python",
   "name": "python",
   "nbconvert_exporter": "python",
   "pygments_lexer": "ipython3",
   "version": "3.12.7"
  }
 },
 "nbformat": 4,
 "nbformat_minor": 5
}
