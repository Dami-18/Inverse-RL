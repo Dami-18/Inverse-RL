{
 "cells": [
  {
   "cell_type": "code",
   "execution_count": 2,
   "id": "ba991ad6-fb9c-48d1-864f-ec12045f16c4",
   "metadata": {},
   "outputs": [],
   "source": [
    "import numpy as np\n",
    "import torch"
   ]
  },
  {
   "cell_type": "code",
   "execution_count": 3,
   "id": "30808be2-f344-4cfa-99e8-3eb9e02bb605",
   "metadata": {},
   "outputs": [],
   "source": [
    "# Input (temp, rainfall, humidity)\n",
    "inputs = np.array([[73, 67, 43], \n",
    "                   [91, 88, 64], \n",
    "                   [87, 134, 58], \n",
    "                   [102, 43, 37], \n",
    "                   [69, 96, 70]], dtype='float32')\n",
    "# Targets (apples, oranges)\n",
    "targets = np.array([[56, 70], \n",
    "                    [81, 101], \n",
    "                    [119, 133], \n",
    "                    [22, 37], \n",
    "                    [103, 119]], dtype='float32')"
   ]
  },
  {
   "cell_type": "code",
   "execution_count": 4,
   "id": "b561c48e-0dab-4dde-9c2b-94e616dcbbdf",
   "metadata": {},
   "outputs": [],
   "source": [
    "inputs = torch.from_numpy(inputs)\n",
    "targets = torch.from_numpy(targets)\n",
    "w = torch.randn(2,3,requires_grad=True)\n",
    "b = torch.randn(2,requires_grad=True)"
   ]
  },
  {
   "cell_type": "code",
   "execution_count": 5,
   "id": "005fef99-f86e-4672-871d-bf2d85daa393",
   "metadata": {},
   "outputs": [],
   "source": [
    "def model(x):\n",
    "    return x @ w.t() + b"
   ]
  },
  {
   "cell_type": "code",
   "execution_count": 7,
   "id": "ea976927-0f8b-4161-8c13-e11b548193b5",
   "metadata": {},
   "outputs": [
    {
     "name": "stdout",
     "output_type": "stream",
     "text": [
      "tensor(63622.2891, grad_fn=<DivBackward0>)\n"
     ]
    }
   ],
   "source": [
    "pred = model(inputs)\n",
    "def mse(t1,t2):\n",
    "    diff = t1-t2\n",
    "    return torch.sum(diff*diff)/diff.numel()\n",
    "loss = mse(pred,targets)\n",
    "print(loss)"
   ]
  },
  {
   "cell_type": "code",
   "execution_count": 9,
   "id": "adad9df5-0c79-496e-bbe6-818425e9064d",
   "metadata": {},
   "outputs": [],
   "source": [
    "loss.backward()\n",
    "with torch.no_grad(): # We use torch.no_grad to indicate to PyTorch that we shouldn't track, calculate, or modify gradients while updating the weights and biases\n",
    "    w -= w.grad * 1e-5\n",
    "    b -= b.grad * 1e-5\n",
    "    w.grad.zero_()\n",
    "    b.grad.zero_()\n",
    "#Before we proceed, we reset the gradients to zero by invoking the .zero_() method. We need to do this because PyTorch accumulates gradients. Otherwise, the next time we invoke .backward on the loss, the new gradient values are added to the existing gradients, which may lead to unexpected results"
   ]
  },
  {
   "cell_type": "code",
   "execution_count": 13,
   "id": "4269ee5b-9baf-4948-908c-f77eabfdd93b",
   "metadata": {},
   "outputs": [
    {
     "data": {
      "text/plain": [
       "tensor([[ 58.0453,  71.4210],\n",
       "        [ 77.2073,  94.9033],\n",
       "        [128.6474, 144.2890],\n",
       "        [ 26.0431,  42.0166],\n",
       "        [ 90.2443, 106.3501]], grad_fn=<AddBackward0>)"
      ]
     },
     "execution_count": 13,
     "metadata": {},
     "output_type": "execute_result"
    }
   ],
   "source": [
    "# For multiple epochs\n",
    "for i in range(120):\n",
    "    pred = model(inputs)\n",
    "    loss = mse(pred,targets)\n",
    "    loss.backward()\n",
    "    with torch.no_grad():\n",
    "        w -= w.grad * 1e-5\n",
    "        b -= b.grad * 1e-5\n",
    "        w.grad.zero_()\n",
    "        b.grad.zero_()\n",
    "pred = model(inputs)\n",
    "pred"
   ]
  },
  {
   "cell_type": "code",
   "execution_count": 22,
   "id": "972455ae-0cdf-4f1b-9032-454c66903d98",
   "metadata": {},
   "outputs": [],
   "source": [
    "# Linear regression using PyTorch built-ins\n",
    "import torch.nn as nn\n",
    "from torch.utils.data import TensorDataset, DataLoader\n",
    "import torch.nn.functional as f"
   ]
  },
  {
   "cell_type": "code",
   "execution_count": 23,
   "id": "c1ac1685-3adc-45c5-a37a-1c405bfe2a0f",
   "metadata": {},
   "outputs": [],
   "source": [
    "# Input (temp, rainfall, humidity)\n",
    "inputs = np.array([[73, 67, 43], \n",
    "                   [91, 88, 64], \n",
    "                   [87, 134, 58], \n",
    "                   [102, 43, 37], \n",
    "                   [69, 96, 70], \n",
    "                   [74, 66, 43], \n",
    "                   [91, 87, 65], \n",
    "                   [88, 134, 59], \n",
    "                   [101, 44, 37], \n",
    "                   [68, 96, 71], \n",
    "                   [73, 66, 44], \n",
    "                   [92, 87, 64], \n",
    "                   [87, 135, 57], \n",
    "                   [103, 43, 36], \n",
    "                   [68, 97, 70]], \n",
    "                  dtype='float32')\n",
    "\n",
    "# Targets (apples, oranges)\n",
    "targets = np.array([[56, 70], \n",
    "                    [81, 101], \n",
    "                    [119, 133], \n",
    "                    [22, 37], \n",
    "                    [103, 119],\n",
    "                    [57, 69], \n",
    "                    [80, 102], \n",
    "                    [118, 132], \n",
    "                    [21, 38], \n",
    "                    [104, 118], \n",
    "                    [57, 69], \n",
    "                    [82, 100], \n",
    "                    [118, 134], \n",
    "                    [20, 38], \n",
    "                    [102, 120]], \n",
    "                   dtype='float32')\n",
    "\n",
    "inputs = torch.from_numpy(inputs)\n",
    "targets = torch.from_numpy(targets)"
   ]
  },
  {
   "cell_type": "code",
   "execution_count": 30,
   "id": "22a6f600-c95b-4f3a-9e56-139f29e88901",
   "metadata": {},
   "outputs": [
    {
     "name": "stdout",
     "output_type": "stream",
     "text": [
      "tensor([[ 73.,  66.,  44.],\n",
      "        [ 87., 135.,  57.],\n",
      "        [ 74.,  66.,  43.],\n",
      "        [ 87., 134.,  58.],\n",
      "        [ 68.,  96.,  71.],\n",
      "        [101.,  44.,  37.]])\n",
      "tensor([[ 57.,  69.],\n",
      "        [118., 134.],\n",
      "        [ 57.,  69.],\n",
      "        [119., 133.],\n",
      "        [104., 118.],\n",
      "        [ 21.,  38.]])\n",
      "tensor([[102.,  43.,  37.],\n",
      "        [ 91.,  88.,  64.],\n",
      "        [ 68.,  97.,  70.],\n",
      "        [ 91.,  87.,  65.],\n",
      "        [ 88., 134.,  59.],\n",
      "        [ 92.,  87.,  64.]])\n",
      "tensor([[ 22.,  37.],\n",
      "        [ 81., 101.],\n",
      "        [102., 120.],\n",
      "        [ 80., 102.],\n",
      "        [118., 132.],\n",
      "        [ 82., 100.]])\n",
      "tensor([[ 69.,  96.,  70.],\n",
      "        [ 73.,  67.,  43.],\n",
      "        [103.,  43.,  36.]])\n",
      "tensor([[103., 119.],\n",
      "        [ 56.,  70.],\n",
      "        [ 20.,  38.]])\n"
     ]
    }
   ],
   "source": [
    "train_ds = TensorDataset(inputs, targets)\n",
    "batch_size = 6\n",
    "train_dl = DataLoader(train_ds,batch_size,shuffle=True)\n",
    "\n",
    "# v\n",
    "for xb, yb in train_dl: \n",
    "    print(xb)\n",
    "    print(yb)"
   ]
  },
  {
   "cell_type": "code",
   "execution_count": 25,
   "id": "93d71a74-1510-4053-a1c3-22c3999b69b6",
   "metadata": {},
   "outputs": [
    {
     "data": {
      "text/plain": [
       "[Parameter containing:\n",
       " tensor([[-0.2223, -0.0191,  0.3105],\n",
       "         [-0.3711,  0.0647, -0.1696]], requires_grad=True),\n",
       " Parameter containing:\n",
       " tensor([-0.4776, -0.3466], requires_grad=True)]"
      ]
     },
     "execution_count": 25,
     "metadata": {},
     "output_type": "execute_result"
    }
   ],
   "source": [
    "model = nn.Linear(3,2) # 1st dimension is size of number of features, 2nd dimension is number of outputs\n",
    "list(model.parameters())"
   ]
  },
  {
   "cell_type": "code",
   "execution_count": 26,
   "id": "b0debb55-68a5-414f-b92f-5b45fe5780cf",
   "metadata": {},
   "outputs": [
    {
     "data": {
      "text/plain": [
       "tensor([[ -4.6320, -30.3964],\n",
       "        [ -2.5132, -39.2792],\n",
       "        [ -4.3649, -33.8036],\n",
       "        [-12.4840, -41.6927],\n",
       "        [  4.0880, -31.6151],\n",
       "        [ -4.8352, -30.8321],\n",
       "        [ -2.1836, -39.5134],\n",
       "        [ -4.2767, -34.3442],\n",
       "        [-12.2808, -41.2569],\n",
       "        [  4.6208, -31.4135],\n",
       "        [ -4.3024, -30.6306],\n",
       "        [ -2.7165, -39.7150],\n",
       "        [ -4.6945, -33.5694],\n",
       "        [-13.0168, -41.8942],\n",
       "        [  4.2912, -31.1793]], grad_fn=<AddmmBackward0>)"
      ]
     },
     "execution_count": 26,
     "metadata": {},
     "output_type": "execute_result"
    }
   ],
   "source": [
    "pred = model(inputs)\n",
    "pred"
   ]
  },
  {
   "cell_type": "code",
   "execution_count": 27,
   "id": "072f6ce8-e396-49c0-adfd-294133c44158",
   "metadata": {},
   "outputs": [],
   "source": [
    "loss_fn = f.mse_loss\n",
    "loss = loss_fn(model(inputs), targets)\n",
    "opt = torch.optim.SGD(model.parameters(), lr=1e-5) # stochastic gradient descent optimizer with defined learning rate"
   ]
  },
  {
   "cell_type": "code",
   "execution_count": 29,
   "id": "5c04650a-a906-4977-b30f-66ee2bc21a27",
   "metadata": {},
   "outputs": [
    {
     "data": {
      "text/plain": [
       "tensor([[54.1737, 67.3737]], grad_fn=<AddmmBackward0>)"
      ]
     },
     "execution_count": 29,
     "metadata": {},
     "output_type": "execute_result"
    }
   ],
   "source": [
    "def model_fit(num_epochs, model, loss_fn, opt, train_dl):\n",
    "    for epoch in range(num_epochs):\n",
    "        for xb,yb in train_dl: # In each iteration, the data loader returns one batch of data with the given batch size\n",
    "            pred = model(xb)\n",
    "            loss = loss_fn(pred,yb)\n",
    "            loss.backward()\n",
    "            opt.step() # takes one step for optimizing\n",
    "            opt.zero_grad() # reset gradients to zero\n",
    "\n",
    "model_fit(120,model,loss_fn,opt, train_dl)\n",
    "\n",
    "# Predict output\n",
    "model(torch.tensor([[75, 63, 44.]]))"
   ]
  },
  {
   "cell_type": "code",
   "execution_count": null,
   "id": "fe03314c-e664-4c45-89ba-3d8c4df34cd4",
   "metadata": {},
   "outputs": [],
   "source": []
  }
 ],
 "metadata": {
  "kernelspec": {
   "display_name": "Python 3 (ipykernel)",
   "language": "python",
   "name": "python3"
  },
  "language_info": {
   "codemirror_mode": {
    "name": "ipython",
    "version": 3
   },
   "file_extension": ".py",
   "mimetype": "text/x-python",
   "name": "python",
   "nbconvert_exporter": "python",
   "pygments_lexer": "ipython3",
   "version": "3.12.7"
  }
 },
 "nbformat": 4,
 "nbformat_minor": 5
}
